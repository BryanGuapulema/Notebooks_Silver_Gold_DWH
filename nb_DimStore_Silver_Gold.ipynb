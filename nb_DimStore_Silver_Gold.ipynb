{
 "cells": [
  {
   "cell_type": "markdown",
   "id": "38f1e78e-d86d-4ce8-970c-b23aeda3cf7c",
   "metadata": {
    "microsoft": {
     "language": "python",
     "language_group": "synapse_pyspark"
    },
    "nteract": {
     "transient": {
      "deleting": false
     }
    }
   },
   "source": [
    "# DimStore – Silver → Gold\n",
    "\n",
    "**Objetivo:** Crear la tabla DimStore en Gold a partir de la tabla Silver ya consolidada.\n",
    "\n",
    "**Proceso:**\n",
    "1. Seleccionar columnas relevantes de la tabla Silver: StoreID → StoreKey, StoreName, EmployeeID, Budget, ETL_DateInserted.\n",
    "2. Crear una vista temporal tmpStore para validación y transformaciones.\n",
    "3. Convertir la vista temporal en Delta Table Gold (`Tables/DimStore`).\n"
   ]
  },
  {
   "cell_type": "code",
   "execution_count": null,
   "id": "fde4e569-167d-4cf1-8381-978c4cd533c0",
   "metadata": {
    "collapsed": false,
    "microsoft": {
     "language": "sparksql",
     "language_group": "synapse_pyspark"
    }
   },
   "outputs": [
    {
     "data": {
      "application/vnd.livy.statement-meta+json": {
       "execution_finish_time": "2025-10-02T22:47:44.9027782Z",
       "execution_start_time": "2025-10-02T22:47:21.0779641Z",
       "livy_statement_state": "available",
       "normalized_state": "finished",
       "parent_msg_id": "9358336f-c1a6-4165-8371-3d22769102b8",
       "queued_time": "2025-10-02T22:47:14.3372976Z",
       "session_id": "99a21291-3268-46fc-8523-22119ee4022d",
       "session_start_time": "2025-10-02T22:47:14.3383754Z",
       "spark_pool": null,
       "state": "finished",
       "statement_id": 2,
       "statement_ids": [
        2
       ]
      },
      "text/plain": [
       "StatementMeta(, 99a21291-3268-46fc-8523-22119ee4022d, 2, Finished, Available, Finished)"
      ]
     },
     "metadata": {},
     "output_type": "display_data"
    },
    {
     "data": {
      "application/vnd.synapse.sparksql-result+json": {
       "data": [],
       "schema": {
        "fields": [],
        "type": "struct"
       }
      },
      "text/plain": [
       "<Spark SQL result set with 0 rows and 0 fields>"
      ]
     },
     "execution_count": 1,
     "metadata": {},
     "output_type": "execute_result"
    }
   ],
   "source": [
    "%%sql\n",
    "CREATE OR REPLACE TEMP VIEW tmpStore AS\n",
    "SELECT\n",
    "    StoreID AS StoreKey,\n",
    "    StoreName,\n",
    "    EmployeeID,\n",
    "    Budget * 10000 AS Budget,\n",
    "    ETL_DateInserted\n",
    "FROM AdventureWorks_SilverLayer.AdventureWorks_Silver_Stores;"
   ]
  },
  {
   "cell_type": "code",
   "execution_count": 2,
   "id": "8348eada-b3c1-4517-8731-0ed08b998b64",
   "metadata": {
    "microsoft": {
     "language": "python",
     "language_group": "synapse_pyspark"
    }
   },
   "outputs": [
    {
     "data": {
      "application/vnd.livy.statement-meta+json": {
       "execution_finish_time": "2025-10-02T22:48:10.9095545Z",
       "execution_start_time": "2025-10-02T22:48:01.1093191Z",
       "livy_statement_state": "available",
       "normalized_state": "finished",
       "parent_msg_id": "af13ba0d-88ef-45a5-b789-75d37f786315",
       "queued_time": "2025-10-02T22:47:55.9234234Z",
       "session_id": "99a21291-3268-46fc-8523-22119ee4022d",
       "session_start_time": null,
       "spark_pool": null,
       "state": "finished",
       "statement_id": 4,
       "statement_ids": [
        4
       ]
      },
      "text/plain": [
       "StatementMeta(, 99a21291-3268-46fc-8523-22119ee4022d, 4, Finished, Available, Finished)"
      ]
     },
     "metadata": {},
     "output_type": "display_data"
    },
    {
     "name": "stdout",
     "output_type": "stream",
     "text": [
      "+--------+--------------------+----------+------------+--------------------+\n",
      "|StoreKey|           StoreName|EmployeeID|      Budget|    ETL_DateInserted|\n",
      "+--------+--------------------+----------+------------+--------------------+\n",
      "|     294|Professional Sale...|       276|2107720.0000|2025-10-02 18:58:...|\n",
      "|     300|   Nationwide Supply|       286|1636874.0000|2025-10-02 18:58:...|\n",
      "|     304|Bicycle Accessori...|       283|2378294.0000|2025-10-02 18:58:...|\n",
      "|     314|Top of the Line B...|       288|4897778.0000|2025-10-02 18:58:...|\n",
      "|     318|        Great Bikes |       283|1500648.0000|2025-10-02 18:58:...|\n",
      "|     322|   Irregulars Outlet|       288|3318985.0000|2025-10-02 18:58:...|\n",
      "|     330|Major Sport Suppl...|       283|1302796.0000|2025-10-02 18:58:...|\n",
      "|     332|Family's Favorite...|       278|3010824.0000|2025-10-02 18:58:...|\n",
      "|     336|Imported and Dome...|       276|1484518.0000|2025-10-02 18:58:...|\n",
      "|     348|Bold Bike Accesso...|       276|4455477.0000|2025-10-02 18:58:...|\n",
      "+--------+--------------------+----------+------------+--------------------+\n",
      "only showing top 10 rows\n",
      "\n"
     ]
    }
   ],
   "source": [
    "# Convertir la vista temporal a DataFrame\n",
    "df = spark.sql(\"SELECT * FROM tmpStore\")\n",
    "\n",
    "# Validación rápida: mostrar las primeras 10 filas\n",
    "#df.show(10)\n",
    "\n",
    "# Guardar la tabla DimStore en Gold (Delta)\n",
    "df.write.mode(\"overwrite\").format(\"delta\").option(\"overwriteSchema\", \"true\").save(\"Tables/DimStore\")"
   ]
  }
 ],
 "metadata": {
  "dependencies": {
   "lakehouse": {
    "default_lakehouse": "38b9a822-6ba9-4c34-9bf4-f37a36b566fc",
    "default_lakehouse_name": "AdventureWorks_GoldLayer",
    "default_lakehouse_workspace_id": "4ed7945f-ed35-4eb6-9deb-814d2fe747e0",
    "known_lakehouses": [
     {
      "id": "38b9a822-6ba9-4c34-9bf4-f37a36b566fc"
     }
    ]
   }
  },
  "kernel_info": {
   "name": "synapse_pyspark"
  },
  "kernelspec": {
   "display_name": "synapse_pyspark",
   "name": "synapse_pyspark"
  },
  "language_info": {
   "name": "python"
  },
  "microsoft": {
   "language": "python",
   "language_group": "synapse_pyspark",
   "ms_spell_check": {
    "ms_spell_check_language": "es"
   }
  },
  "nteract": {
   "version": "nteract-front-end@1.0.0"
  },
  "spark_compute": {
   "compute_id": "/trident/default",
   "session_options": {
    "conf": {
     "spark.synapse.nbs.session.timeout": "1200000"
    }
   }
  }
 },
 "nbformat": 4,
 "nbformat_minor": 5
}
